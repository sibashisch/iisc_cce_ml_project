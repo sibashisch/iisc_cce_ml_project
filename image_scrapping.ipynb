{
 "cells": [
  {
   "cell_type": "code",
   "execution_count": 3,
   "id": "933ec361-7c67-4d4f-a9b3-bf1cb99d9c9c",
   "metadata": {
    "tags": []
   },
   "outputs": [],
   "source": [
    "__author__ = \"Sibashis Chatterjee (sibashis1992@gmail.com)\""
   ]
  },
  {
   "cell_type": "code",
   "execution_count": null,
   "id": "5ecb2102-f147-4cb3-9232-784b4221e9ee",
   "metadata": {
    "tags": []
   },
   "outputs": [],
   "source": [
    "from googleapiclient.discovery import build\n",
    "import pprint\n",
    "import requests\n",
    "\n",
    "from my_secrets import *\n",
    "\n",
    "IMAGES_TO_DOWNLOAD = 1000\n",
    "\n",
    "# Usage example: https://github.com/googleapis/google-api-python-client/blob/main/samples/customsearch/main.py#L39\n",
    "# API Doc: https://developers.google.com/custom-search/v1/reference/rest/v1/cse/list\n",
    "\n",
    "# Google Developer console: https://console.cloud.google.com/apis/dashboard?project=iisc-cee-project\n",
    "# Programable Search console: https://programmablesearchengine.google.com/controlpanel/all\n",
    "service = build(\"customsearch\", \"v1\", developerKey = search_api_key)\n",
    "\n",
    "# totalResults = 0;\n",
    "# startIndex = 0\n",
    "# Once failed at index 201, retrying\n",
    "totalResults = 200\n",
    "startIndex = 200\n",
    "\n",
    "# loop till <IMAGES_TO_DOWNLOAD> images are downloaded\n",
    "while totalResults < IMAGES_TO_DOWNLOAD:\n",
    "    \n",
    "    res = (\n",
    "        service.cse()\n",
    "        .list(\n",
    "            q = \"covid+19+infected+lungs+x+ray\",\n",
    "            hl = \"en-US\",\n",
    "            cx = programable_search_engine_id,\n",
    "            searchType = \"image\",\n",
    "            start = startIndex\n",
    "        )\n",
    "        .execute()\n",
    "    )\n",
    "    \n",
    "    for item in res[\"items\"]:\n",
    "        \n",
    "        pprint.pprint(item[\"fileFormat\"] + \" from \" + item[\"link\"])\n",
    "        \n",
    "        if item[\"image\"]:\n",
    "            \n",
    "            totalResults = totalResults + 1\n",
    "            \n",
    "            fileExtension = item[\"fileFormat\"].split(\"/\")[1]\n",
    "            fileName = \"scrapped_images/image_\" + str(totalResults) + \".jpeg\"\n",
    "            print(\"Writing \" + fileName + \" of type \" + item[\"fileFormat\"] + \" from \" + item[\"link\"])\n",
    "            \n",
    "            img_data = requests.get(item[\"link\"]).content\n",
    "            with open(fileName, \"wb\") as handler:\n",
    "                handler.write(img_data)\n",
    "    \n",
    "    # If there is a next page, use the start index in next iteration of the loop, break out of the loop oitherwise\n",
    "    if (res and res[\"queries\"] and res[\"queries\"][\"nextPage\"]):\n",
    "        startIndex = res[\"queries\"][\"nextPage\"][0][\"startIndex\"]\n",
    "    else:\n",
    "        break\n"
   ]
  },
  {
   "cell_type": "markdown",
   "id": "0f7ed03f-2020-45a2-b270-f50bf48c039b",
   "metadata": {},
   "source": [
    "Sample output\n",
    "\n",
    "```\n",
    "'image/jpeg from http://www.itnonline.com/sites/default/files/Chest.jpeg'\n",
    "Writing /content/scrapped_images/image_1.jpeg of type image/jpeg from http://www.itnonline.com/sites/default/files/Chest.jpeg\n",
    "('image/jpeg from '\n",
    " 'https://www.itnonline.com/sites/default/files/styles/content_feed_large/public/Covid_ches_Xray_0.jpg?itok=gixxojWy')\n",
    "Writing /content/scrapped_images/image_2.jpeg of type image/jpeg from https://www.itnonline.com/sites/default/files/styles/content_feed_large/public/Covid_ches_Xray_0.jpg?itok=gixxojWy\n",
    "('image/png from '\n",
    " 'https://media.springernature.com/lw685/springer-static/image/art%3A10.1186%2Fs43055-020-00296-x/MediaObjects/43055_2020_296_Fig1_HTML.png')\n",
    "Writing /content/scrapped_images/image_3.jpeg of type image/png from https://media.springernature.com/lw685/springer-static/image/art%3A10.1186%2Fs43055-020-00296-x/MediaObjects/43055_2020_296_Fig1_HTML.png\n",
    "```"
   ]
  },
  {
   "cell_type": "markdown",
   "id": "49883772-6f08-47e5-ac53-232966f79d65",
   "metadata": {},
   "source": [
    "Started giving error at startIndex >= 200\n",
    "```\n",
    "HttpError: <HttpError 400 when requesting https://customsearch.googleapis.com/customsearch/v1?q=covid%2B19%2Binfected%2Blungs%2Bx%2Bray&hl=en-US&cx=XXXXXXXXXXXXXX&searchType=image&start=200&key=YYYYYYYYYYYYYYYYYYY&alt=json returned \"Request contains an invalid argument.\". Details: \"[{'message': 'Request contains an invalid argument.', 'domain': 'global', 'reason': 'badRequest'}]\">\n",
    "```"
   ]
  }
 ],
 "metadata": {
  "kernelspec": {
   "display_name": "Python 3 (ipykernel)",
   "language": "python",
   "name": "python3"
  },
  "language_info": {
   "codemirror_mode": {
    "name": "ipython",
    "version": 3
   },
   "file_extension": ".py",
   "mimetype": "text/x-python",
   "name": "python",
   "nbconvert_exporter": "python",
   "pygments_lexer": "ipython3",
   "version": "3.11.3"
  }
 },
 "nbformat": 4,
 "nbformat_minor": 5
}
