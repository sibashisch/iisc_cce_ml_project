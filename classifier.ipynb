{
 "cells": [
  {
   "cell_type": "code",
   "execution_count": 1,
   "id": "67f96d7e-a195-43b3-b08e-2475d080d48f",
   "metadata": {},
   "outputs": [],
   "source": [
    "__author__ = \"Sibashis Chatterjee (sibashis1992@gmail.com)\""
   ]
  },
  {
   "cell_type": "code",
   "execution_count": null,
   "id": "245c5e0f-df6e-4eb8-9137-c6fe1d0c7a45",
   "metadata": {
    "tags": []
   },
   "outputs": [],
   "source": [
    "import os\n",
    "import numpy as np\n",
    "import pandas as pd\n",
    "import tensorflow as tf"
   ]
  },
  {
   "cell_type": "code",
   "execution_count": null,
   "id": "040b0174-edbd-4ce5-991f-83c2d1fb311e",
   "metadata": {},
   "outputs": [],
   "source": [
    "training_data_dir = \"input-dataset/train\"\n",
    "test_data_dir = \"input-dataset/test\""
   ]
  },
  {
   "cell_type": "code",
   "execution_count": null,
   "id": "d6c50daf-f806-4fac-898f-ba7134abfc50",
   "metadata": {},
   "outputs": [],
   "source": [
    "training_data_processor = ImageDataGenerator(rescale=1./255)\n",
    "test_data_processor = ImageDataGenerator(rescale=1./255)"
   ]
  },
  {
   "cell_type": "code",
   "execution_count": null,
   "id": "31c822bc",
   "metadata": {},
   "outputs": [],
   "source": [
    "training_data_processed = training_data_processor.flow_from_directory(\n",
    "    training_data_dir,\n",
    "    target_size=(256, 256),\n",
    "    batch_size=32,\n",
    "    class_mode='categorical')\n",
    "test_data_processed = test_data_processor.flow_from_directory(\n",
    "    test_data_dir,\n",
    "    target_size=(256, 256),\n",
    "    batch_size=32,\n",
    "    class_mode='categorical')"
   ]
  },
  {
   "cell_type": "code",
   "execution_count": null,
   "id": "cfaa3282",
   "metadata": {},
   "outputs": [],
   "source": [
    "# Define CNN model\n",
    "model = tf.keras.models.sequential([\n",
    "    \n",
    "    tf.keras.layers.Conv2D(32, (3, 3), activation='relu', input_shape=(256, 256, 3)),\n",
    "    tf.keras.layers.MaxPooling2D(2, 2),\n",
    "    \n",
    "    tf.keras.layers.Conv2D(64, (3, 3), activation='relu'),\n",
    "    tf.keras.layers.MaxPooling2D(2, 2),\n",
    "    \n",
    "    tf.keras.layers.Conv2D(128, (3, 3), activation='relu'),\n",
    "    tf.keras.layers.MaxPooling2D(2, 2),\n",
    "    \n",
    "    tf.keras.layers.Flatten(),\n",
    "    tf.keras.layers.Dense(512, activation='relu'),\n",
    "    tf.keras.layers.Dropout(0.5),\n",
    "    tf.keras.layers.Dense(3, activation='softmax')\n",
    "    \n",
    "])\n",
    "\n",
    "\n",
    "# Compile the model\n",
    "model.compile(optimizer='adam',\n",
    "              loss='sparse_categorical_crossentropy',\n",
    "              metrics=['accuracy'])"
   ]
  },
  {
   "cell_type": "code",
   "execution_count": null,
   "id": "2844b59d",
   "metadata": {},
   "outputs": [],
   "source": [
    "# Training\n",
    "model.fit(training_data_processed,\n",
    "          epochs=10,\n",
    "          validation_data=test_data_processed)\n",
    "\n",
    "model.summary()"
   ]
  },
  {
   "cell_type": "code",
   "execution_count": null,
   "id": "f5f320eb",
   "metadata": {},
   "outputs": [],
   "source": [
    "# Evalution\n",
    "model.evaluate(test_generator)"
   ]
  },
  {
   "cell_type": "code",
   "execution_count": null,
   "id": "b44b3d02",
   "metadata": {},
   "outputs": [],
   "source": []
  }
 ],
 "metadata": {
  "kernelspec": {
   "display_name": "Python 3 (ipykernel)",
   "language": "python",
   "name": "python3"
  },
  "language_info": {
   "codemirror_mode": {
    "name": "ipython",
    "version": 3
   },
   "file_extension": ".py",
   "mimetype": "text/x-python",
   "name": "python",
   "nbconvert_exporter": "python",
   "pygments_lexer": "ipython3",
   "version": "3.8.10"
  }
 },
 "nbformat": 4,
 "nbformat_minor": 5
}
